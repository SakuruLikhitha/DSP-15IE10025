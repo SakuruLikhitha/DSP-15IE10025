{
 "cells": [
  {
   "cell_type": "code",
   "execution_count": 1,
   "metadata": {},
   "outputs": [],
   "source": [
    "import numpy as np"
   ]
  },
  {
   "cell_type": "code",
   "execution_count": 2,
   "metadata": {},
   "outputs": [],
   "source": [
    "import matplotlib.pyplot as plt"
   ]
  },
  {
   "cell_type": "code",
   "execution_count": 3,
   "metadata": {},
   "outputs": [],
   "source": [
    "x = np.random.uniform(low=0,high=0.5,size=(64,1))"
   ]
  },
  {
   "cell_type": "code",
   "execution_count": 4,
   "metadata": {},
   "outputs": [],
   "source": [
    "x = np.transpose(x)"
   ]
  },
  {
   "cell_type": "code",
   "execution_count": 5,
   "metadata": {},
   "outputs": [],
   "source": [
    "#defining haar_matrix"
   ]
  },
  {
   "cell_type": "code",
   "execution_count": 6,
   "metadata": {},
   "outputs": [],
   "source": [
    "k=64"
   ]
  },
  {
   "cell_type": "code",
   "execution_count": 7,
   "metadata": {},
   "outputs": [],
   "source": [
    "def dft(n):\n",
    "    dft_mat = []\n",
    "    for i in range(n):\n",
    "        for j in range(n):\n",
    "            k = i*j\n",
    "            k1 = np.exp(-((2*1j*np.pi*k)/n))\n",
    "            dft_mat = np.append(dft_mat,k1)\n",
    "    dft_mat = np.reshape(dft_mat,(n,n))      \n",
    "    return dft_mat   "
   ]
  },
  {
   "cell_type": "code",
   "execution_count": 8,
   "metadata": {},
   "outputs": [],
   "source": [
    "def dct(N):\n",
    "    dct_mat=[]\n",
    "    for n in range(N):\n",
    "        for k in range(N):\n",
    "            ans = np.cos((np.pi*k*(2*n+1))/(2*N))\n",
    "            dct_mat = np.append(dct_mat, ans)\n",
    "            \n",
    "    dct_mat = np.reshape(dct_mat,(N,N))   \n",
    " \n",
    "    return dct_mat\n"
   ]
  },
  {
   "cell_type": "code",
   "execution_count": 9,
   "metadata": {},
   "outputs": [],
   "source": [
    "def haar(N):\n",
    "    final=[]\n",
    "    if N==2:\n",
    "        return(np.matrix(([1,1],[1,-1])))\n",
    "    v = np.log2(N)-1\n",
    "    hn2 = haar(N/2)\n",
    "    result1 = np.concatenate((hn2,hn2),axis=1)\n",
    "    matrix1 = (pow(2,v/2))*np.identity(int(N/2))\n",
    "    result2 = np.concatenate((matrix1,-matrix1),axis=1)\n",
    "    final = np.concatenate((result1,result2),axis=0)\n",
    "    return(final)"
   ]
  },
  {
   "cell_type": "code",
   "execution_count": 10,
   "metadata": {},
   "outputs": [],
   "source": [
    "def update_dft(l,ydft,k):\n",
    "#    print(l)\n",
    "\n",
    "    a = (int((k+1-l)/2))\n",
    "    b = (int((k+1+l)/2))\n",
    "    for k in range(a,b, 1):\n",
    "    \n",
    "        ydft[0][k] = 0\n",
    "    return ydft   "
   ]
  },
  {
   "cell_type": "code",
   "execution_count": 11,
   "metadata": {},
   "outputs": [],
   "source": [
    "def error(x,y,k):\n",
    "    diff=0\n",
    "    for i in range(k):\n",
    "        diff += np.square(abs(x[0][i]- y[0][i]))\n",
    "        \n",
    "#    print(diff)    \n",
    "    return(diff/k)\n",
    "\n",
    "\n",
    "def update_dct_haar(l,mat):\n",
    "    for i in range(l):\n",
    "        mat[0][l]=0\n",
    "    return(mat)  "
   ]
  },
  {
   "cell_type": "code",
   "execution_count": 12,
   "metadata": {},
   "outputs": [],
   "source": [
    "#calculating dft\n",
    "ydft = np.matmul(x,dft(k))   \n",
    "# calculating dct\n",
    "ydct = np.matmul(x,dct(k))\n",
    "#calculating haar\n",
    "haar1 = np.transpose(haar(k))\n",
    "yhaar = np.matmul(x,haar1)\n",
    "yhaar = np.array(yhaar)"
   ]
  },
  {
   "cell_type": "code",
   "execution_count": 13,
   "metadata": {},
   "outputs": [],
   "source": [
    "#main code for DFT\n",
    "f_err=[] \n",
    "for L in range(k):\n",
    "    ydft_updated = update_dft(L,ydft,k)\n",
    "    xinv = np.linalg.inv(dft(k))\n",
    "#    \n",
    "    dft_out = np.matmul(ydft_updated,xinv)\n",
    "    f_err = np.append(f_err,error(x,dft_out,k))"
   ]
  },
  {
   "cell_type": "code",
   "execution_count": 14,
   "metadata": {},
   "outputs": [],
   "source": [
    "inputx = np.arange(0,k,1) \n",
    "\n",
    "#plt.plot(inputx,final_error)   "
   ]
  },
  {
   "cell_type": "code",
   "execution_count": 15,
   "metadata": {},
   "outputs": [],
   "source": [
    "##main code for DCT\n",
    "f_err_dct=[] \n",
    "for L in range(k):\n",
    "    ydct_updated = update_dct_haar(L,ydct)\n",
    "    yinv = np.linalg.inv(dct(k))\n",
    "    dct_out = np.matmul(ydct_updated,yinv)\n",
    "    f_err_dct= np.append(f_err_dct,error(x,dct_out,k))\n"
   ]
  },
  {
   "cell_type": "code",
   "execution_count": 16,
   "metadata": {},
   "outputs": [
    {
     "name": "stdout",
     "output_type": "stream",
     "text": [
      "0\n",
      "1\n",
      "2\n",
      "3\n",
      "4\n",
      "5\n",
      "6\n",
      "7\n",
      "8\n",
      "9\n",
      "10\n",
      "11\n",
      "12\n",
      "13\n",
      "14\n",
      "15\n",
      "16\n",
      "17\n",
      "18\n",
      "19\n",
      "20\n",
      "21\n",
      "22\n",
      "23\n",
      "24\n",
      "25\n",
      "26\n",
      "27\n",
      "28\n",
      "29\n",
      "30\n",
      "31\n",
      "32\n",
      "33\n",
      "34\n",
      "35\n",
      "36\n",
      "37\n",
      "38\n",
      "39\n",
      "40\n",
      "41\n",
      "42\n",
      "43\n",
      "44\n",
      "45\n",
      "46\n",
      "47\n",
      "48\n",
      "49\n",
      "50\n",
      "51\n",
      "52\n",
      "53\n",
      "54\n",
      "55\n",
      "56\n",
      "57\n",
      "58\n",
      "59\n",
      "60\n",
      "61\n",
      "62\n",
      "63\n"
     ]
    }
   ],
   "source": [
    "f_err_haar=[] \n",
    "for L in range(k):\n",
    "    yhaar_updated = update_dct_haar(L,yhaar)\n",
    "    zinv = np.linalg.inv(np.transpose(haar(k)))\n",
    "    haar_out = np.matmul(yhaar_updated,zinv)\n",
    "    haar_out = np.array(haar_out)\n",
    "    f_err_haar= np.append(f_err_haar,error(x,haar_out,k))\n",
    "    print(L)"
   ]
  },
  {
   "cell_type": "code",
   "execution_count": 17,
   "metadata": {},
   "outputs": [
    {
     "data": {
      "text/plain": [
       "[<matplotlib.lines.Line2D at 0x4313f97ac8>]"
      ]
     },
     "execution_count": 17,
     "metadata": {},
     "output_type": "execute_result"
    },
    {
     "data": {
      "image/png": "[encoded data removed]",
      "text/plain": [
       "<Figure size 432x288 with 1 Axes>"
      ]
     },
     "metadata": {},
     "output_type": "display_data"
    }
   ],
   "source": [
    "plt.plot(inputx,f_err, 'r', label='DFT') \n",
    "plt.plot(inputx,f_err_dct,'b', label = 'DCT') \n",
    "plt.plot(inputx,f_err_haar, 'g', label='HAAR')"
   ]
  },
  {
   "cell_type": "code",
   "execution_count": null,
   "metadata": {},
   "outputs": [],
   "source": []
  }
 ],
 "metadata": {
  "kernelspec": {
   "display_name": "Python 3",
   "language": "python",
   "name": "python3"
  },
  "language_info": {
   "codemirror_mode": {
    "name": "ipython",
    "version": 3
   },
   "file_extension": ".py",
   "mimetype": "text/x-python",
   "name": "python",
   "nbconvert_exporter": "python",
   "pygments_lexer": "ipython3",
   "version": "3.6.5"
  }
 },
 "nbformat": 4,
 "nbformat_minor": 2
}
